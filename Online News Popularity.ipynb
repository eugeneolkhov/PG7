{
 "cells": [
  {
   "cell_type": "markdown",
   "metadata": {},
   "source": [
    "# Online News Popularity\n",
    "\n",
    "Parth Girme, Eugene Olkhov, Matthew Shaw\n",
    "\n",
    "## Business Context\n",
    "\n",
    "* ### **Who: Mashable**\n",
    "     * Global media platform specializing in tech, digital culture and entertainment content\n",
    "     * 28M social media followers; 7.5M articles shared monthly\n",
    "     \n",
    "* ### **What: Business Question**\n",
    "     * Can Mashable predict how popular a given article will be?\n",
    "     \n",
    "* ### **Why: Business Impact**\n",
    "     * Optimize allocation of advertisements to viral articles\n",
    "     * Dynamic advertising pricing based on predicted popularity\n",
    "\n",
    "## Results\n",
    "\n",
    "* Logistic regression gives us a decent prediction of the types of articles that are more likely to go viral. \n",
    "* Articles with less repetitive language and that are posted during the weekend are more likely to go viral. \n",
    "* Articles that are categorized as business, entertaintment, world, and lifestyle are less likely to go viral. \n",
    "\n",
    "## Application - Dynamic Marketing Pricing\n",
    "\n",
    "*  Price of advertisements adjusted based on article's probability of going viral.\n",
    "*  For example, if the cost of the advertisement is 100 dollars, and the probability of the particular article going viral is 0.75, then the adjusted price will be 75 dollars.\n",
    "* Greater flexibility for advertisers can help Mashable build better relationships, increasing ad revenue over time.\n",
    " \n",
    "## Data Collection and Cleaning\n",
    "\n",
    "Data was acquired from the UCI Machine Learning Repository. \n",
    "\n",
    "* **Original Source:** K. Fernandes, P. Vinagre and P. Cortez. A Proactive Intelligent Decision Support System for Predicting the Popularity of Online News. Proceedings of the 17th EPIA 2015 - Portuguese Conference on Artificial Intelligence, September, Coimbra, Portugal\n",
    "\n",
    "The data consisted of information on 39,644 unique articles. Our target variable was number of shares, which was converted into a binary viral/not viral variable.\n",
    "\n",
    "A few of the variables (different information about the articles) were removed for not logically being able to contribute to our goal of predicting virality. Some of these variables included:\n",
    "\n",
    "* Information on whether or not the article was published on a weekend (this resulted in multicollinearity with the day an article was published).\n",
    "* Text subjectivity information (this was difficult to interpret). \n",
    "\n",
    "Some of the variables that we kept included:                                    \n",
    "\n",
    "* Article word count\n",
    "* Number of images, videos, links in the article\n",
    "* Article theme and topic\n",
    "* Sentiment score (positive/negative valence)\n",
    "\n",
    "|                       | Raw Data | Cleaned Data |\n",
    "|-----------------------|----------|-------------:|\n",
    "| Observations          |   39,644 |       39,644 |\n",
    "| Variables             |       60 |           43 |\n",
    "| Numeric Variables     |       45 |           29 |\n",
    "| Categorical Variables |       14 |           13 |\n",
    "\n"
   ]
  },
  {
   "cell_type": "code",
   "execution_count": 1,
   "metadata": {
    "collapsed": true
   },
   "outputs": [],
   "source": [
    "## importing relevant packages\n",
    "import os\n",
    "import pandas as pd\n",
    "import numpy as np\n",
    "from sklearn.preprocessing import StandardScaler \n",
    "from sklearn.decomposition import PCA\n",
    "from matplotlib import pyplot as plt\n",
    "##NOTE: The code includes seaborn scatterplots, which require an updated version of seaborn. May not run.\n",
    "import seaborn as sns\n",
    "from sklearn.linear_model import LogisticRegression\n",
    "from sklearn.model_selection import train_test_split\n",
    "from sklearn.metrics import classification_report, confusion_matrix, accuracy_score\n",
    "from sklearn.metrics import roc_curve, auc\n",
    "from sklearn.svm import SVC  \n",
    "from sklearn.ensemble import RandomForestRegressor\n",
    "\n",
    "\n",
    "\n",
    "df = pd.read_csv('OnlineNewsPopularity.csv')\n",
    "df_main = pd.read_csv('OnlineNewsPopularity.csv')\n",
    "df.drop(['url', ' timedelta', ' kw_min_min', ' kw_max_min', ' kw_avg_min', ' kw_min_max',' kw_max_max',\n",
    "         ' kw_avg_max',' kw_min_avg',' kw_max_avg', ' kw_avg_avg', ' self_reference_min_shares',\n",
    "         ' self_reference_max_shares', ' self_reference_avg_sharess', ' is_weekend',\n",
    "         ' global_subjectivity', ' title_subjectivity', ' abs_title_subjectivity'],\n",
    "         axis = 1, inplace = True)\n",
    "##-- We downloaded data from the UCI repository, unfortunately some of the variable descriptions were \n",
    "##-- not clear and hence we had to remove said variables from the beginning. Also created a main data file\n",
    "##-------------------------------------------------------------------------------------------------------\n",
    "\n",
    "## converting categorical variables to 'object' type & running a correlation\n",
    "threshold = 7\n",
    "nan = []\n",
    "for i in df:\n",
    "    if df[i].nunique() <= threshold:\n",
    "        nan.append(i)\n",
    "        df[nan] = df[nan].astype(object)\n",
    "\n",
    "a = df.corr()\n",
    "##-- We converted the categorical variables to object by setting a threshold on the number of unique\n",
    "##-- observations. In this case we set the threshold to 7(we knew the least unique number of observation\n",
    "##-- for continuous variables) and said all the variable with unique number of observations under 7 are\n",
    "##-- categorical, which they are. \n",
    "##-------------------------------------------------------------------------------------------------------\n",
    "\n",
    "## Further removing the variables based on correlation\n",
    "df.drop([' n_non_stop_words', ' n_non_stop_unique_tokens', ' global_rate_positive_words'\n",
    "             , ' global_rate_negative_words', ' rate_positive_words', ' rate_negative_words'\n",
    "             , ' min_positive_polarity', ' max_positive_polarity', ' min_negative_polarity'\n",
    "             , ' max_negative_polarity', ' avg_positive_polarity', ' avg_negative_polarity']\n",
    "             , axis = 1, inplace = True)\n",
    "##-- Further removed correlated variables to avoid multicollinearity  \n",
    "##-------------------------------------------------------------------------------------------------------\n"
   ]
  },
  {
   "cell_type": "markdown",
   "metadata": {},
   "source": [
    "In order to determine where to set the threshold which separates the number of shares into viral or non-viral, we created a cumulative frequency plot to see where the distance between total shares of each article starts to become farther apart. In the below plot, we see that the frequencies start to become more spread out a little after 1,000 shares. However, we decided to use 3,000 shares as our threshold as that is where the curve begins to level. Also, by using 3,000 as the threshold, we break viral / non-viral into a 20% / 80% split. "
   ]
  },
  {
   "cell_type": "code",
   "execution_count": 4,
   "metadata": {},
   "outputs": [
    {
     "data": {
      "image/png": "[encoded data removed]",
      "text/plain": [
       "<matplotlib.figure.Figure at 0x1a1e8cc1198>"
      ]
     },
     "execution_count": 4,
     "metadata": {},
     "output_type": "execute_result"
    }
   ],
   "source": [
    "\n",
    "def cdf(x):\n",
    "        x = np.sort(x)\n",
    "        n = len(x)\n",
    "        y = np.arange(1, n + 1, 1)/n\n",
    "        return x, y \n",
    "    \n",
    "x, y = cdf(df[' shares'])\n",
    "\n",
    "f, ax = plt.subplots(figsize=(9,4))\n",
    "ax.plot(x,y,'.', color = \"orange\", alpha = .3)\n",
    "ax.set_xlim(0,5000)\n",
    "f"
   ]
  },
  {
   "cell_type": "code",
   "execution_count": 5,
   "metadata": {
    "collapsed": true
   },
   "outputs": [],
   "source": [
    "## setting the threshold for the binary 'y' predictor variable & standardizing the data \n",
    "df['y'] = np.where((df[' shares'] >= 3000), 1, 0)\n",
    "df.drop(' shares', axis = 1, inplace = True)\n",
    "df.loc[:, df.dtypes == np.float64] = StandardScaler().fit_transform(df.loc[:, df.dtypes == np.float64])\n",
    "##-- We also created the predictor 'y' variable based on the threshold we got from the propensity graph\n",
    "##-- we saw earlier, and standardized the data for prediction purposes."
   ]
  },
  {
   "cell_type": "markdown",
   "metadata": {},
   "source": [
    "## Logistic Regression\n",
    "\n",
    "*  Ease of interpretability for business purposes\n",
    "*  Relative importance of variables on predicting popularity\n",
    "\n",
    "Below is the logistic regression pipeline for developing our model. We implement splitting the data into training and testing sets by training the model on one set of the data, and then predicting on the testing set to check how generalizable the model is to unseen data. We then output the top 10 coefficients with the highest betas (in both positive and negative directions) to see which variables are most important in predicting if an article will go viral. "
   ]
  },
  {
   "cell_type": "code",
   "execution_count": 8,
   "metadata": {},
   "outputs": [
    {
     "data": {
      "text/html": [
       "<div>\n",
       "<style>\n",
       "    .dataframe thead tr:only-child th {\n",
       "        text-align: right;\n",
       "    }\n",
       "\n",
       "    .dataframe thead th {\n",
       "        text-align: left;\n",
       "    }\n",
       "\n",
       "    .dataframe tbody tr th {\n",
       "        vertical-align: top;\n",
       "    }\n",
       "</style>\n",
       "<table border=\"1\" class=\"dataframe\">\n",
       "  <thead>\n",
       "    <tr style=\"text-align: right;\">\n",
       "      <th></th>\n",
       "      <th>name</th>\n",
       "      <th>coef</th>\n",
       "    </tr>\n",
       "  </thead>\n",
       "  <tbody>\n",
       "    <tr>\n",
       "      <th>2</th>\n",
       "      <td>n_unique_tokens</td>\n",
       "      <td>0.651865</td>\n",
       "    </tr>\n",
       "    <tr>\n",
       "      <th>21</th>\n",
       "      <td>weekday_is_sunday</td>\n",
       "      <td>0.256685</td>\n",
       "    </tr>\n",
       "    <tr>\n",
       "      <th>20</th>\n",
       "      <td>weekday_is_saturday</td>\n",
       "      <td>0.226049</td>\n",
       "    </tr>\n",
       "    <tr>\n",
       "      <th>22</th>\n",
       "      <td>LDA_00</td>\n",
       "      <td>0.171240</td>\n",
       "    </tr>\n",
       "    <tr>\n",
       "      <th>3</th>\n",
       "      <td>num_hrefs</td>\n",
       "      <td>0.124385</td>\n",
       "    </tr>\n",
       "  </tbody>\n",
       "</table>\n",
       "</div>"
      ],
      "text/plain": [
       "                    name      coef\n",
       "2        n_unique_tokens  0.651865\n",
       "21     weekday_is_sunday  0.256685\n",
       "20   weekday_is_saturday  0.226049\n",
       "22                LDA_00  0.171240\n",
       "3              num_hrefs  0.124385"
      ]
     },
     "execution_count": 8,
     "metadata": {},
     "output_type": "execute_result"
    }
   ],
   "source": [
    "# initiating Logistic Regression\n",
    "log_reg = LogisticRegression(C = 5) \n",
    "\n",
    "# Separating dependent & independent variables\n",
    "X = df.iloc[:,0:30]\n",
    "y = df.iloc[:,30]\n",
    "y = pd.Series(y)\n",
    "\n",
    "# Splitting for test & train\n",
    "X_train, X_test, y_train, y_test = train_test_split(X, y, test_size=0.2, random_state=0)   \n",
    "# fitting the regression on our training data \n",
    "log_reg.fit(X_train, y_train)\n",
    "# predictions on our testing data\n",
    "y_pred = log_reg.predict_proba(X_test)  \n",
    "\n",
    "# Getting the top 10 coefficients\n",
    "coef = pd.DataFrame(log_reg.coef_).T\n",
    "coef = pd.concat([pd.DataFrame(X_test.columns),coef], axis = 1)\n",
    "coef.columns = ['name', 'coef']\n",
    "coef.nlargest(5,'coef')"
   ]
  },
  {
   "cell_type": "code",
   "execution_count": 7,
   "metadata": {},
   "outputs": [
    {
     "data": {
      "text/html": [
       "<div>\n",
       "<style>\n",
       "    .dataframe thead tr:only-child th {\n",
       "        text-align: right;\n",
       "    }\n",
       "\n",
       "    .dataframe thead th {\n",
       "        text-align: left;\n",
       "    }\n",
       "\n",
       "    .dataframe tbody tr th {\n",
       "        vertical-align: top;\n",
       "    }\n",
       "</style>\n",
       "<table border=\"1\" class=\"dataframe\">\n",
       "  <thead>\n",
       "    <tr style=\"text-align: right;\">\n",
       "      <th></th>\n",
       "      <th>name</th>\n",
       "      <th>coef</th>\n",
       "    </tr>\n",
       "  </thead>\n",
       "  <tbody>\n",
       "    <tr>\n",
       "      <th>11</th>\n",
       "      <td>data_channel_is_bus</td>\n",
       "      <td>-0.844467</td>\n",
       "    </tr>\n",
       "    <tr>\n",
       "      <th>10</th>\n",
       "      <td>data_channel_is_entertainment</td>\n",
       "      <td>-0.739846</td>\n",
       "    </tr>\n",
       "    <tr>\n",
       "      <th>14</th>\n",
       "      <td>data_channel_is_world</td>\n",
       "      <td>-0.599321</td>\n",
       "    </tr>\n",
       "    <tr>\n",
       "      <th>9</th>\n",
       "      <td>data_channel_is_lifestyle</td>\n",
       "      <td>-0.374512</td>\n",
       "    </tr>\n",
       "    <tr>\n",
       "      <th>16</th>\n",
       "      <td>weekday_is_tuesday</td>\n",
       "      <td>-0.292977</td>\n",
       "    </tr>\n",
       "  </tbody>\n",
       "</table>\n",
       "</div>"
      ],
      "text/plain": [
       "                              name      coef\n",
       "11             data_channel_is_bus -0.844467\n",
       "10   data_channel_is_entertainment -0.739846\n",
       "14           data_channel_is_world -0.599321\n",
       "9        data_channel_is_lifestyle -0.374512\n",
       "16              weekday_is_tuesday -0.292977"
      ]
     },
     "execution_count": 7,
     "metadata": {},
     "output_type": "execute_result"
    }
   ],
   "source": [
    "coef.nsmallest(5,'coef')"
   ]
  },
  {
   "cell_type": "markdown",
   "metadata": {},
   "source": [
    "### Interpreting Coefficients\n",
    "\n",
    "By far, the largest coefficient is n_unique_tokens which stands for the rate of unique words in the article. This suggests that people prefer sharing non-repetitive articles. Having more unique words also could mean that the article has sophisticated language. \n",
    "\n",
    "Articles published on Saturday or Sunday are also more likely to become viral compared to those published on the weekdays. Those that correspond to the LDA 00 topic are also likely to go viral. However, unfortunately LDA analysis was conducted by the original authors of the data, and did not detail the names of the LDA topics. (LDA is an exploratory topic analysis method which maps similar words together). \n",
    "\n",
    "Further there are a few variables that have highly negative coefficients. These are variables that may reduce the likelihood of going viral. Business, Entertainment, World, and Lifestyle categories seem to be less likely to go viral. Additionally, articles published on Tuesdays seem to also be less likely to go viral. This aligns with the high coefficients of the weekend publications. "
   ]
  },
  {
   "cell_type": "markdown",
   "metadata": {},
   "source": [
    "## Measuring Accuracy"
   ]
  },
  {
   "cell_type": "code",
   "execution_count": 13,
   "metadata": {
    "scrolled": false
   },
   "outputs": [
    {
     "name": "stdout",
     "output_type": "stream",
     "text": [
      "[[4207 1868]\n",
      " [ 843 1011]]\n",
      "             precision    recall  f1-score   support\n",
      "\n",
      "          0       0.83      0.69      0.76      6075\n",
      "          1       0.35      0.55      0.43      1854\n",
      "\n",
      "avg / total       0.72      0.66      0.68      7929\n",
      "\n",
      "0.658090553664\n"
     ]
    },
    {
     "data": {
      "image/png": "[encoded data removed]",
      "text/plain": [
       "<matplotlib.figure.Figure at 0x1a1e8f461d0>"
      ]
     },
     "metadata": {},
     "output_type": "display_data"
    }
   ],
   "source": [
    "import warnings\n",
    "warnings.filterwarnings('ignore')\n",
    "\n",
    "# getting the accuracy measures\n",
    "y_pred1 = pd.DataFrame(y_pred[:,0])\n",
    "y_pred1['class'] = np.where((y_pred1[0] >= .75), 0, 1)\n",
    "print(confusion_matrix(y_test,y_pred1['class']))\n",
    "print(classification_report(y_test,y_pred1['class']))  \n",
    "print(accuracy_score(y_test, y_pred1['class']))  \n",
    "\n",
    "# checking accuracy at multiple threshold of probability output\n",
    "threshold = [0.10,0.2,0.3,0.4,0.5,0.6,0.7,0.8,0.9]\n",
    "acc = []\n",
    "for i in threshold:\n",
    "    y_pred1 = pd.DataFrame(y_pred[:,0])\n",
    "    y_pred1['class'] = np.where((y_pred1[0] >= i), 0, 1)\n",
    "    acc.append(accuracy_score(y_test, y_pred1['class']))  \n",
    "\n",
    "# getting the AUC curve\n",
    "sns.set('talk', 'whitegrid', 'dark', font_scale=1.5, font='Ricty',\n",
    "        rc={\"lines.linewidth\": 2, 'grid.linestyle': '--'})\n",
    "\n",
    "fpr, tpr, _ = roc_curve(y_test, y_pred[:,1])\n",
    "roc_auc = auc(fpr, tpr)\n",
    "\n",
    "lw = 2\n",
    "plt.figure(figsize=(15,8))\n",
    "plt.plot(fpr, tpr, color='darkorange',\n",
    "         lw=lw, label='ROC curve (AUC = %0.2f)' % roc_auc)\n",
    "plt.plot([0, 1], [0, 1], color='navy', lw=lw, linestyle='--')\n",
    "plt.xlim([0.0, 1.0])\n",
    "plt.ylim([0.0, 1.05])\n",
    "plt.legend(loc=\"lower right\")\n",
    "plt.show()"
   ]
  },
  {
   "cell_type": "markdown",
   "metadata": {},
   "source": [
    "The above accuracy metric shows us that the prediction is far from perfect, but it is quite a bit better than randomly guessing (AUC = 0.5) if something will be viral or not."
   ]
  },
  {
   "cell_type": "markdown",
   "metadata": {},
   "source": [
    "## Future Directions\n",
    "\n",
    "In order to improve this model, after it has been implemented, we can continue to tune it based on new incoming data. Since viral trends are often changing, it will be important for the model to be dynamic. \n",
    "\n",
    "Further, it will be useful to conduct LDA analysis ourselves in order to get a better sense of which LDA topics are strong predictors of virality. "
   ]
  }
 ],
 "metadata": {
  "kernelspec": {
   "display_name": "Python 3",
   "language": "python",
   "name": "python3"
  },
  "language_info": {
   "codemirror_mode": {
    "name": "ipython",
    "version": 3
   },
   "file_extension": ".py",
   "mimetype": "text/x-python",
   "name": "python",
   "nbconvert_exporter": "python",
   "pygments_lexer": "ipython3",
   "version": "3.6.3"
  }
 },
 "nbformat": 4,
 "nbformat_minor": 2
}
